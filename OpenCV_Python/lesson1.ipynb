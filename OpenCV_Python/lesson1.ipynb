{
 "cells": [
  {
   "cell_type": "markdown",
   "metadata": {},
   "source": [
    "# Урок 1\n",
    "### __Работа с изображениями и видео__"
   ]
  },
  {
   "cell_type": "code",
   "execution_count": 2,
   "metadata": {},
   "outputs": [],
   "source": [
    "import cv2 # ?Подключение библиотеки OpenCV\n",
    "import numpy as np"
   ]
  },
  {
   "cell_type": "markdown",
   "metadata": {},
   "source": [
    "#### __Как открыть картинку__"
   ]
  },
  {
   "cell_type": "code",
   "execution_count": 2,
   "metadata": {},
   "outputs": [
    {
     "data": {
      "text/plain": [
       "-1"
      ]
     },
     "execution_count": 2,
     "metadata": {},
     "output_type": "execute_result"
    }
   ],
   "source": [
    "img = cv2.imread('images/cat.jpg') # открываем фото\n",
    "cv2.imshow('CatCatCat', img) # открытие картинки\n",
    "cv2.waitKey(0) \n",
    "#картинка будет показываться сколь угодно долго, пока её не закрыть"
   ]
  },
  {
   "cell_type": "markdown",
   "metadata": {},
   "source": [
    "#### __Вывод видео__"
   ]
  },
  {
   "cell_type": "code",
   "execution_count": 20,
   "metadata": {},
   "outputs": [],
   "source": [
    "cap = cv2.VideoCapture('videos/beast.mp4')\n",
    "while(cap.isOpened()): \n",
    "    ret,frame = cap.read() \n",
    "    if not ret:  # Если кадр не считан, прерываем цикл\n",
    "        break\n",
    "    cv2.imshow('frame',frame)  # отображаю кадр \n",
    "    if cv2.waitKey(10) & 0xFF == ord('q'): \n",
    "        break \n",
    "cap.release() # освобождение ресурсов \n",
    "cv2.destroyAllWindows() "
   ]
  },
  {
   "cell_type": "markdown",
   "metadata": {},
   "source": [
    "Функция __VideoCapture__ принимает ссылку на файл. Цикл работает, пока воспроизводится файл. \n",
    "\n",
    "В этом цикле мы последовательно получаем кадры видео один за другим с помощью функции __read__. \n",
    "\n",
    "Она возвращает результат считывания кадра (__ret__ — успешно/неуспешно) и сам кадр __frame__. \n",
    "\n",
    "\n",
    "С помощью __imshow__ показываем кадр в окошке. \n",
    "\n",
    "Функции __WaitKey__ ждёт 33 миллисекунды и продолжает цикл, если не нажата клавиша q. Задержка 33 выбрано ориентировочно. Она соответствует 30 кадрам в секунду.\n",
    "\n",
    "`После того как видео заканчивается, переменная frame становится None, и OpenCV не может корректно обработать попытку отобразить пустой кадр с помощью cv2.imshow().`\n",
    "\n",
    "_Поэтому необходимо добавлять проверку!_\n",
    "~~~python\n",
    "if not ret:  # Если кадр не считан, прерываем цикл\n",
    "        break\n",
    "~~~"
   ]
  },
  {
   "cell_type": "markdown",
   "metadata": {},
   "source": [
    "#### __Вывод изображения с веб камеры__"
   ]
  },
  {
   "cell_type": "code",
   "execution_count": 3,
   "metadata": {},
   "outputs": [],
   "source": [
    "cap = cv2.VideoCapture(0)\n",
    "# ?Захват видео с камеры (индекс 0 — это встроенная камера)\n",
    "# ?(индекс 1 — это любая доступная камера\n",
    "\n",
    "# Проверка, удалось ли открыть камеру\n",
    "if not cap.isOpened():\n",
    "    print(\"Не удалось открыть камеру\")\n",
    "    exit()\n",
    "# Цикл для захвата и отображения видео\n",
    "while True:\n",
    "    ret, frame = cap.read()  # Чтение текущего кадра\n",
    "    kernel = np.ones((2,2),np.uint8) \n",
    "    frame = cv2.cvtColor(frame, cv2.COLOR_BGR2GRAY)\n",
    "    frame = cv2.Canny(frame, 30, 30)\n",
    "    frame = cv2.dilate(frame, kernel, iterations=1)\n",
    "    frame = cv2.erode(frame, kernel, iterations=1)\n",
    "    frame = cv2.resize(frame, (800, 800))\n",
    "    if not ret:  # Если кадр не считан, прерываем цикл\n",
    "        print(\"Не удалось получить кадр\")\n",
    "        break\n",
    "    cv2.imshow('Видео с камеры', frame)  # Отображаем кадр\n",
    "    # Прерывание по нажатию клавиши 'q'\n",
    "    if cv2.waitKey(1) & 0xFF == ord('q'):\n",
    "        break\n",
    "# Освобождение камеры и закрытие окон\n",
    "cap.release()\n",
    "cv2.destroyAllWindows()"
   ]
  },
  {
   "cell_type": "markdown",
   "metadata": {},
   "source": [
    "Так же на веб камеру возможно снять видео! \n",
    "\n",
    "[Как снять видео на вебку](https://www.youtube.com/watch?v=4FpGorb70s4&t=366s)"
   ]
  },
  {
   "cell_type": "markdown",
   "metadata": {},
   "source": [
    "#### Теперь изучим некоторые функции по работе с изображениями\n"
   ]
  },
  {
   "cell_type": "code",
   "execution_count": 22,
   "metadata": {},
   "outputs": [
    {
     "name": "stdout",
     "output_type": "stream",
     "text": [
      "(640, 640, 3)\n"
     ]
    }
   ],
   "source": [
    "img = cv2.imread('images/cat.jpg') # открываем фото\n",
    "print(img.shape) # ?shape выводит параметры изображения "
   ]
  },
  {
   "cell_type": "markdown",
   "metadata": {},
   "source": [
    "`Кортеж (Высота, Ширина, Количество слоёв)`\n",
    "\n",
    "_RGB_ - Количество слоёв \"3\""
   ]
  },
  {
   "cell_type": "markdown",
   "metadata": {},
   "source": [
    "__1. Изменение размера фото__"
   ]
  },
  {
   "cell_type": "code",
   "execution_count": 23,
   "metadata": {},
   "outputs": [
    {
     "data": {
      "text/plain": [
       "-1"
      ]
     },
     "execution_count": 23,
     "metadata": {},
     "output_type": "execute_result"
    }
   ],
   "source": [
    "new_img = cv2.resize(img, (800, 800))\n",
    "# ?cv2.resize(\"Картинка, размер которой необходимо изменить\", (Новая Высота, Новая Ширина))\n",
    "cv2.imshow('Result', new_img)\n",
    "cv2.waitKey(0) \n",
    "\n",
    "#картинка будет показываться сколь угодно долго, пока её не закрыть"
   ]
  },
  {
   "cell_type": "markdown",
   "metadata": {},
   "source": [
    "__2. Обрезка фото__"
   ]
  },
  {
   "cell_type": "code",
   "execution_count": 24,
   "metadata": {},
   "outputs": [
    {
     "data": {
      "text/plain": [
       "-1"
      ]
     },
     "execution_count": 24,
     "metadata": {},
     "output_type": "execute_result"
    }
   ],
   "source": [
    "cv2.imshow('Result', img[0:100,0:150])\n",
    "# ?данный код обрезает картинку по высоте и ширине\n",
    "# !начало координат находится в левом верхнем углу картинки\n",
    "cv2.waitKey(0) "
   ]
  },
  {
   "cell_type": "markdown",
   "metadata": {},
   "source": [
    "__3. Добавление размытия на фото__"
   ]
  },
  {
   "cell_type": "code",
   "execution_count": 25,
   "metadata": {},
   "outputs": [
    {
     "data": {
      "text/plain": [
       "-1"
      ]
     },
     "execution_count": 25,
     "metadata": {},
     "output_type": "execute_result"
    }
   ],
   "source": [
    "img_1 = cv2.GaussianBlur(img, (9, 9), 0)\n",
    "#!В скобки можно передавать только нечётные значения\n",
    "cv2.imshow('Result', img_1)\n",
    "cv2.waitKey(0) "
   ]
  },
  {
   "cell_type": "markdown",
   "metadata": {},
   "source": [
    "__4. Примевение картинки к другому цветовому формату__"
   ]
  },
  {
   "cell_type": "code",
   "execution_count": 5,
   "metadata": {},
   "outputs": [
    {
     "data": {
      "text/plain": [
       "-1"
      ]
     },
     "execution_count": 5,
     "metadata": {},
     "output_type": "execute_result"
    }
   ],
   "source": [
    "img_2 = cv2.cvtColor(img, cv2.COLOR_BGR2GRAY)\n",
    "# Приведение к чёрно - белому формату\n",
    "cv2.imshow('Result', img_2)\n",
    "cv2.waitKey(0) \n"
   ]
  },
  {
   "cell_type": "markdown",
   "metadata": {},
   "source": [
    "__5. Нахождение углов изображения__"
   ]
  },
  {
   "cell_type": "code",
   "execution_count": 6,
   "metadata": {},
   "outputs": [
    {
     "data": {
      "text/plain": [
       "-1"
      ]
     },
     "execution_count": 6,
     "metadata": {},
     "output_type": "execute_result"
    }
   ],
   "source": [
    "img_3 = cv2.Canny(img, 40, 40)\n",
    "#?('Картинка', точность определения обводок, точность определения обводок )\n",
    "# !Меняя числа в скобках, мы меняем точность контура!\n",
    "# * Точность обводки влияет на скорость выполнения кода!\n",
    "cv2.imshow('Result', img_3)\n",
    "cv2.waitKey(0) "
   ]
  },
  {
   "cell_type": "markdown",
   "metadata": {},
   "source": [
    "Превращает картинку в __БИНАРНУЮ__ картинку.\n",
    " \n",
    "Белый цвет - 1\n",
    "\n",
    "Черный цвет - 0"
   ]
  },
  {
   "cell_type": "markdown",
   "metadata": {},
   "source": [
    "__5.1. Можно изменять ширину обводки__"
   ]
  },
  {
   "cell_type": "code",
   "execution_count": 7,
   "metadata": {},
   "outputs": [
    {
     "data": {
      "text/plain": [
       "-1"
      ]
     },
     "execution_count": 7,
     "metadata": {},
     "output_type": "execute_result"
    }
   ],
   "source": [
    "import numpy as np # Чтобы создать матрицу\n",
    "\n",
    "img_4 = cv2.Canny(img, 50, 50)\n",
    "kernel = np.ones((3,3),np.uint8) \n",
    "\n",
    "# ?ones - создает матрицу, в корой все элементы со значением 1\n",
    "#!uint8 - могут быть числа только больше нуля и целые\n",
    "\n",
    "img_4 = cv2.dilate(img_4, kernel, iterations=1)\n",
    "\n",
    "#?('Картинка', точность определения обводок, точность определения обводок )\n",
    "\n",
    "cv2.imshow('Result', img_4)\n",
    "cv2.waitKey(0) "
   ]
  },
  {
   "cell_type": "markdown",
   "metadata": {},
   "source": [
    "__5.2. Оптимизация бинарной картинки__\n",
    "\n",
    "Можно уменьшить контуры и обводку в жирности"
   ]
  },
  {
   "cell_type": "code",
   "execution_count": 8,
   "metadata": {},
   "outputs": [
    {
     "data": {
      "text/plain": [
       "-1"
      ]
     },
     "execution_count": 8,
     "metadata": {},
     "output_type": "execute_result"
    }
   ],
   "source": [
    "img_5 = cv2.erode(img_4, kernel, iterations=1)\n",
    "cv2.imshow('Result', img_5)\n",
    "cv2.waitKey(0) "
   ]
  },
  {
   "cell_type": "markdown",
   "metadata": {},
   "source": [
    "__Резюме__\n",
    "1. Моя картинка идёт в бинарном формате\n",
    "2. Для её обработки я использовал меньшую точность и увеличил скорость обработки\n",
    "3. Оптимизировал, уменьшим количество белых точек\n",
    "4. Полученную картинку проще распознать и обработать компьютеру\n"
   ]
  },
  {
   "cell_type": "markdown",
   "metadata": {},
   "source": [
    "#### Приколы"
   ]
  },
  {
   "cell_type": "code",
   "execution_count": 9,
   "metadata": {},
   "outputs": [
    {
     "data": {
      "text/plain": [
       "-1"
      ]
     },
     "execution_count": 9,
     "metadata": {},
     "output_type": "execute_result"
    }
   ],
   "source": [
    "Boys = cv2.imread('images/chuvaki.jpg') # открываем фото\n",
    "Boys = cv2.cvtColor(Boys, cv2.COLOR_BGR2GRAY)\n",
    "Boys = cv2.Canny(Boys, 50, 50)\n",
    "Boys = cv2.dilate(Boys, kernel, iterations=1)\n",
    "Boys = cv2.erode(Boys, kernel, iterations=1)\n",
    "Boys = cv2.resize(Boys, (600, 800))\n",
    "cv2.imshow('Result', Boys)\n",
    "cv2.waitKey(0) "
   ]
  }
 ],
 "metadata": {
  "kernelspec": {
   "display_name": "opencv_pth",
   "language": "python",
   "name": "python3"
  },
  "language_info": {
   "codemirror_mode": {
    "name": "ipython",
    "version": 3
   },
   "file_extension": ".py",
   "mimetype": "text/x-python",
   "name": "python",
   "nbconvert_exporter": "python",
   "pygments_lexer": "ipython3",
   "version": "3.10.8"
  }
 },
 "nbformat": 4,
 "nbformat_minor": 2
}
