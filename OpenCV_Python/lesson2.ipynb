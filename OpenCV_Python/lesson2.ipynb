{
 "cells": [
  {
   "cell_type": "markdown",
   "metadata": {},
   "source": [
    "# Урок 2"
   ]
  },
  {
   "cell_type": "markdown",
   "metadata": {},
   "source": [
    "### __Создание объектов и вывод информации__"
   ]
  },
  {
   "cell_type": "code",
   "execution_count": 1,
   "metadata": {},
   "outputs": [],
   "source": [
    "import cv2 \n",
    "import numpy as np"
   ]
  },
  {
   "cell_type": "markdown",
   "metadata": {},
   "source": [
    "__1. Создание своего изображения__"
   ]
  },
  {
   "cell_type": "code",
   "execution_count": 2,
   "metadata": {},
   "outputs": [
    {
     "data": {
      "text/plain": [
       "-1"
      ]
     },
     "execution_count": 2,
     "metadata": {},
     "output_type": "execute_result"
    }
   ],
   "source": [
    "photo = np.ones((450,450,3),dtype='uint8')\n",
    "\n",
    "#! - 3 обозначает количество слоёв\n",
    "#* 3 слоя можно сделать для того, чтобы в будущем сделать картинку в RGB\n",
    "#? np.zeros - создаёт матрицу со всеми нулями\n",
    "#? uint8 - целое число без знака, которое может иметь только положительное значение от 0 до 255.\n",
    "\n",
    "cv2.imshow('Result',photo)\n",
    "cv2.waitKey(0)"
   ]
  },
  {
   "cell_type": "markdown",
   "metadata": {},
   "source": [
    "\n",
    "__2. Окраска изображения__"
   ]
  },
  {
   "cell_type": "markdown",
   "metadata": {},
   "source": [
    "2.1 _Добавим для каждого элемента черной матрицы синий цвет_"
   ]
  },
  {
   "cell_type": "code",
   "execution_count": 3,
   "metadata": {},
   "outputs": [
    {
     "data": {
      "text/plain": [
       "-1"
      ]
     },
     "execution_count": 3,
     "metadata": {},
     "output_type": "execute_result"
    }
   ],
   "source": [
    "# BGR - формат в OpenCV\n",
    "photo[:] = (255, 0, 0)\n",
    "\n",
    "cv2.imshow('Result',photo)\n",
    "cv2.waitKey(0)"
   ]
  },
  {
   "cell_type": "markdown",
   "metadata": {},
   "source": [
    "2.2 _Сделаю изображение наполовину синим и наполовину красным_"
   ]
  },
  {
   "cell_type": "code",
   "execution_count": 4,
   "metadata": {},
   "outputs": [
    {
     "data": {
      "text/plain": [
       "-1"
      ]
     },
     "execution_count": 4,
     "metadata": {},
     "output_type": "execute_result"
    }
   ],
   "source": [
    "photo[0:255] = (255, 0, 0)\n",
    "photo[225:450] = (0, 0, 255)\n",
    "\n",
    "cv2.imshow('Result',photo)\n",
    "cv2.waitKey(0)"
   ]
  },
  {
   "cell_type": "code",
   "execution_count": 5,
   "metadata": {},
   "outputs": [
    {
     "data": {
      "text/plain": [
       "-1"
      ]
     },
     "execution_count": 5,
     "metadata": {},
     "output_type": "execute_result"
    }
   ],
   "source": [
    "photo1 = np.zeros((450,450,3),dtype='uint8')\n",
    "photo1[100:150, 200:280] = (255, 0, 0)\n",
    "#Картинках[Высота, Ширина]\n",
    "\n",
    "cv2.imshow('Result',photo1)\n",
    "cv2.waitKey(0)"
   ]
  },
  {
   "cell_type": "markdown",
   "metadata": {},
   "source": [
    "__3. _Создание прямоугольной обводви с помощью встроенного метода___ _rectangle_"
   ]
  },
  {
   "cell_type": "code",
   "execution_count": 6,
   "metadata": {},
   "outputs": [
    {
     "data": {
      "text/plain": [
       "-1"
      ]
     },
     "execution_count": 6,
     "metadata": {},
     "output_type": "execute_result"
    }
   ],
   "source": [
    "cv2.rectangle(photo1, (0,0), (100,100), (119, 201, 105) )\n",
    "cv2.rectangle(photo1, (50,0), (200,300), (250, 0, 250), thickness=2)\n",
    "cv2.rectangle(photo1, (10,10), (70,70), (0, 0, 250), thickness=cv2.FILLED)\n",
    "#?FILLED - заливка квадрата\n",
    "#! В кортеж в скобках передается: ( (координаты точки с которой будет происходить рисование квадрата) , (координаты точки до которой мы будем рисовать квадрат), (цвет обводки) )\n",
    "# Метод rectangle позволяет создать квадрат\n",
    "cv2.imshow('Result',photo1)\n",
    "cv2.waitKey(0)"
   ]
  },
  {
   "cell_type": "markdown",
   "metadata": {},
   "source": [
    "__4. Создание линии__"
   ]
  },
  {
   "cell_type": "code",
   "execution_count": 7,
   "metadata": {},
   "outputs": [
    {
     "data": {
      "text/plain": [
       "-1"
      ]
     },
     "execution_count": 7,
     "metadata": {},
     "output_type": "execute_result"
    }
   ],
   "source": [
    "photo2 = np.zeros((450,450,3),dtype='uint8')\n",
    "cv2.line(photo2, (0,photo2.shape[0]//2), (photo2.shape[1], photo2.shape[0]//2), (250,0,0),thickness=3)\n",
    "#? photo2.shape[0]//2 - находит центр изображения по высоте\n",
    "cv2.imshow('Result',photo2)\n",
    "cv2.waitKey(0)"
   ]
  },
  {
   "cell_type": "markdown",
   "metadata": {},
   "source": [
    "__5. Создание круга__"
   ]
  },
  {
   "cell_type": "code",
   "execution_count": 8,
   "metadata": {},
   "outputs": [
    {
     "data": {
      "text/plain": [
       "-1"
      ]
     },
     "execution_count": 8,
     "metadata": {},
     "output_type": "execute_result"
    }
   ],
   "source": [
    "cv2.circle(photo2, (photo2.shape[1]//2, photo2.shape[0]//2), 50, (250,0,0),thickness=cv2.FILLED )\n",
    "cv2.circle(photo2, (photo2.shape[1]//2, photo2.shape[0]//2), 60, (0,0,250),thickness=1 )\n",
    "\n",
    "# (Координаты центра круга), (Радиус)\n",
    "cv2.imshow('Result',photo2)\n",
    "cv2.waitKey(0)"
   ]
  },
  {
   "cell_type": "markdown",
   "metadata": {},
   "source": [
    "Вышеперечисленные функции для создания геометрических объектов часто используются ,когда на картинке нужно показать нужный объект.\n"
   ]
  },
  {
   "cell_type": "markdown",
   "metadata": {},
   "source": [
    "__6. Вывод текстовой надписи__"
   ]
  },
  {
   "cell_type": "code",
   "execution_count": 9,
   "metadata": {},
   "outputs": [
    {
     "data": {
      "text/plain": [
       "-1"
      ]
     },
     "execution_count": 9,
     "metadata": {},
     "output_type": "execute_result"
    }
   ],
   "source": [
    "cv2.putText(photo2,'karishka',(0,150), cv2.FONT_HERSHEY_SIMPLEX, 1, (255,0,255), 1)\n",
    "cv2.imshow('Result',photo2)\n",
    "cv2.waitKey(0)"
   ]
  }
 ],
 "metadata": {
  "kernelspec": {
   "display_name": "opencv-env",
   "language": "python",
   "name": "python3"
  },
  "language_info": {
   "codemirror_mode": {
    "name": "ipython",
    "version": 3
   },
   "file_extension": ".py",
   "mimetype": "text/x-python",
   "name": "python",
   "nbconvert_exporter": "python",
   "pygments_lexer": "ipython3",
   "version": "3.10.8"
  }
 },
 "nbformat": 4,
 "nbformat_minor": 2
}
